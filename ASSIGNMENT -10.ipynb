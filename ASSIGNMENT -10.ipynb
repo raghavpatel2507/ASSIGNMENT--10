{
 "cells": [
  {
   "cell_type": "code",
   "execution_count": 1,
   "id": "2d5d800d",
   "metadata": {},
   "outputs": [],
   "source": [
    "# Q-1\n",
    "# abstraction is a basically background details hide in aprogram\n",
    "#example:Your car is a great example of abstraction. You can start a car by turning the key or pressing the start button. You don’t need to know how the engine is getting started, what all components your car has. The car internal implementation and complex logic is completely hidden from the user.\n",
    "#Objects are the building blocks of Object-Oriented Programming. \n",
    "#An object contains some properties and methods. \n",
    "#We can hide them from the outer world through access modifiers. W\n",
    "#e can provide access only for required functions and properties to the other programs. \n",
    "#This is the general procedure to implement abstraction in OOPS."
   ]
  },
  {
   "cell_type": "code",
   "execution_count": 2,
   "id": "6490175e",
   "metadata": {},
   "outputs": [],
   "source": [
    "#Q-2\n",
    "# abstraction::Abstraction is the method of hiding the unwanted information.\n",
    "#We can implement abstraction using abstract class and interfaces.\n",
    "#In abstraction, implementation complexities are hidden using abstract classes and interfaces.\n",
    "#Abstraction provides access to specific part of data."
   ]
  },
  {
   "cell_type": "code",
   "execution_count": 3,
   "id": "1ef76297",
   "metadata": {},
   "outputs": [],
   "source": [
    "# encapsulation::encapsulation is a method to hide the data in a single entity or unit along with a method to protect information from outside.\n",
    "#encapsulation can be implemented using by access modifier i.e. private, protected and public.\n",
    "#While in encapsulation, the data is hidden using methods of getters and setters.\n",
    "#Encapsulation hides data and the user can not access same directly "
   ]
  },
  {
   "cell_type": "code",
   "execution_count": 4,
   "id": "a63b1332",
   "metadata": {},
   "outputs": [],
   "source": [
    "# Q-3\n",
    "#This module provides the infrastructure for defining abstract base classes in Python\n",
    "#The 'abc' module in Python library provides the infrastructure for defining custom abstract base classes. \n",
    "#'abc' works by marking methods of the base class as abstract.\n",
    "#This is done by @absttractmethod decorator."
   ]
  },
  {
   "cell_type": "code",
   "execution_count": 5,
   "id": "67224b6c",
   "metadata": {},
   "outputs": [],
   "source": [
    "#Q-4\n",
    "#In Python, abstraction can be achieved by having/using abstract classes and methods in our programs. \n"
   ]
  },
  {
   "cell_type": "code",
   "execution_count": null,
   "id": "5dc4b8cc",
   "metadata": {},
   "outputs": [],
   "source": [
    "#Q-5\n",
    "#Abstract classes are not complete, as they may have some methods that are not defined. So we cannot create an instance or object of an abstract class in Python.\n"
   ]
  }
 ],
 "metadata": {
  "kernelspec": {
   "display_name": "Python 3 (ipykernel)",
   "language": "python",
   "name": "python3"
  },
  "language_info": {
   "codemirror_mode": {
    "name": "ipython",
    "version": 3
   },
   "file_extension": ".py",
   "mimetype": "text/x-python",
   "name": "python",
   "nbconvert_exporter": "python",
   "pygments_lexer": "ipython3",
   "version": "3.9.13"
  }
 },
 "nbformat": 4,
 "nbformat_minor": 5
}
